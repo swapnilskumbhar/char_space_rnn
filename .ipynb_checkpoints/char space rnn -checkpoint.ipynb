{
 "cells": [
  {
   "cell_type": "code",
   "execution_count": 1,
   "id": "9cb94886",
   "metadata": {},
   "outputs": [],
   "source": [
    "from __future__ import absolute_import\n",
    "from __future__ import division\n",
    "from __future__ import print_function\n",
    "from __future__ import unicode_literals\n",
    "\n",
    "from data_utils import prep_data\n",
    "\n",
    "\n",
    "\n",
    "import torch\n",
    "from torch.jit import script, trace\n",
    "import torch.nn as nn\n",
    "from torch import optim\n",
    "import torch.nn.functional as F\n",
    "import csv\n",
    "import random\n",
    "\n",
    "import os\n",
    "import codecs\n",
    "\n",
    "import itertools\n",
    "import math\n",
    "\n",
    "\n",
    "USE_CUDA = torch.cuda.is_available()\n",
    "device = torch.device(\"cuda\" if USE_CUDA else \"cpu\")"
   ]
  },
  {
   "cell_type": "code",
   "execution_count": 2,
   "id": "b75051c3",
   "metadata": {},
   "outputs": [
    {
     "name": "stdout",
     "output_type": "stream",
     "text": [
      "b\"Can we make this quick?  Roxanne Korrine and Andrew Barrett are having an incredibly horrendous public break- up on the quad.  Again.\\tWell, I thought we'd start with pronunciation, if that's okay with you.\\n\"\n"
     ]
    }
   ],
   "source": [
    "corpus_name = 'data'\n",
    "corpus = os.path.join(corpus_name)\n",
    "filename = \"formatted_movie_lines.txt\""
   ]
  },
  {
   "cell_type": "code",
   "execution_count": 3,
   "id": "e1ad61dd",
   "metadata": {},
   "outputs": [],
   "source": [
    "datafile = os.path.join(corpus, filename)\n",
    "\n",
    "delimiter = str(codecs.decode('\\n', \"unicode_escape\"))\n",
    "\n",
    "# Initialize lines dict, conversations list, and field ids\n",
    "lines = {}\n",
    "conversations = []\n"
   ]
  },
  {
   "cell_type": "code",
   "execution_count": 16,
   "id": "de714d5c",
   "metadata": {
    "collapsed": true
   },
   "outputs": [
    {
     "name": "stdout",
     "output_type": "stream",
     "text": [
      "Start preparing training data ...\n",
      "Reading lines...\n",
      "Read 442564 sentence pairs\n",
      "Trimmed to 428758 sentence pairs\n",
      "Counting words...\n",
      "Counted words: 33\n",
      "['canwemakethisquick?roxannekorrineandandrewbarrettarehavinganincrediblyhorrendouspublicbreakuponthequad.again.', 'can we make this quick ? roxanne korrine and andrew barrett are having an incredibly horrendous public break up on the quad . again .']\n"
     ]
    }
   ],
   "source": [
    "MAX_LENGTH = 200  # Maximum sentence length to consider\n",
    "save_dir = os.path.join(\"data\", \"save\")\n",
    "prep_data_obj = prep_data(MAX_LENGTH)\n",
    "voc, pairs = prep_data_obj.loadPrepareData(corpus, corpus_name, datafile, save_dir)\n",
    "for pair in pairs[:1]:\n",
    "    print(pair)"
   ]
  },
  {
   "cell_type": "code",
   "execution_count": 17,
   "id": "f18a2600",
   "metadata": {},
   "outputs": [],
   "source": [
    "#Count all the characters\n",
    "all_c = sum(list(voc.word2count.values()))"
   ]
  },
  {
   "cell_type": "code",
   "execution_count": 18,
   "id": "9ef4ed26",
   "metadata": {},
   "outputs": [
    {
     "data": {
      "text/plain": [
       "0.2160765254803255"
      ]
     },
     "execution_count": 18,
     "metadata": {},
     "output_type": "execute_result"
    }
   ],
   "source": [
    "voc.word2count[' ']/all_c"
   ]
  },
  {
   "cell_type": "code",
   "execution_count": 8,
   "id": "f86b8a91",
   "metadata": {},
   "outputs": [],
   "source": [
    "train_ratio = 0.8\n",
    "train_pairs = pairs[:int(len(pairs)*train_ratio)]\n",
    "test_pairs = pairs[int(len(pairs)*train_ratio):]"
   ]
  },
  {
   "cell_type": "code",
   "execution_count": 19,
   "id": "38c4cb23",
   "metadata": {},
   "outputs": [
    {
     "name": "stdout",
     "output_type": "stream",
     "text": [
      "input_variable: torch.Size([143, 50])\n",
      "lengths: tensor([143, 130, 111, 106, 102,  93,  90,  87,  66,  64,  59,  59,  51,  48,\n",
      "         45,  42,  40,  38,  38,  34,  33,  27,  26,  24,  23,  22,  21,  21,\n",
      "         20,  20,  18,  17,  17,  16,  15,  14,  14,  13,  13,  13,  12,  12,\n",
      "         11,  11,  11,  10,  10,   9,   8,   8])\n",
      "target_variable: tensor([[13,  4, 11,  ..., 27,  3, 27],\n",
      "        [ 6,  7, 12,  ...,  8,  4,  4],\n",
      "        [14,  6,  4,  ..., 18, 25, 18],\n",
      "        ...,\n",
      "        [ 6,  0,  0,  ...,  0,  0,  0],\n",
      "        [17,  0,  0,  ...,  0,  0,  0],\n",
      "        [ 2,  0,  0,  ...,  0,  0,  0]])\n",
      "mask: tensor([[ True,  True,  True,  ...,  True,  True,  True],\n",
      "        [ True,  True,  True,  ...,  True,  True,  True],\n",
      "        [ True,  True,  True,  ...,  True,  True,  True],\n",
      "        ...,\n",
      "        [ True, False, False,  ..., False, False, False],\n",
      "        [ True, False, False,  ..., False, False, False],\n",
      "        [ True, False, False,  ..., False, False, False]])\n",
      "max_target_len: 189\n"
     ]
    }
   ],
   "source": [
    "\n",
    "\n",
    "# Example for validation\n",
    "small_batch_size = 50\n",
    "batches = prep_data_obj.batch2TrainData(voc, [random.choice(pairs) for _ in range(small_batch_size)])\n",
    "input_variable, lengths, target_variable, mask, max_target_len = batches\n",
    "\n",
    "print(\"input_variable:\", input_variable.shape)\n",
    "print(\"lengths:\", lengths)\n",
    "print(\"target_variable:\", target_variable)\n",
    "print(\"mask:\", mask)\n",
    "print(\"max_target_len:\", max_target_len)"
   ]
  },
  {
   "cell_type": "code",
   "execution_count": 20,
   "id": "5050baf5",
   "metadata": {},
   "outputs": [
    {
     "data": {
      "text/plain": [
       "tensor([13, 14, 12, 19, 16, 25, 21, 10,  5, 19,  7, 17, 12, 13, 14,  7, 13, 29,\n",
       "         8, 21, 19,  5, 11,  8, 23,  8,  5, 10,  5, 19,  7, 28, 27, 18, 19, 22,\n",
       "         4, 22, 25, 26, 19, 29, 29,  7, 13, 11, 12, 19,  5,  8, 19, 29, 12, 13,\n",
       "        14, 25, 13, 11, 11, 25,  8, 24, 13, 18, 25, 14, 28, 13, 21, 19,  5, 11,\n",
       "        10,  5, 19,  7, 28, 13, 11,  8, 25, 25, 26, 19, 16, 13, 29, 12,  8, 21,\n",
       "        19,  5, 11, 24, 13, 23,  8,  4, 21,  4,  9,  5, 11, 12,  8,  5, 13, 21,\n",
       "        19,  5, 11, 24, 13, 23,  8,  4, 21,  4,  9,  5, 28,  7, 12, 26, 14, 12,\n",
       "        19, 16, 25, 21, 13, 10, 13, 25, 25,  9, 26, 14,  8, 25, 29, 17,  2])"
      ]
     },
     "execution_count": 20,
     "metadata": {},
     "output_type": "execute_result"
    }
   ],
   "source": [
    "input_variable[:,0] "
   ]
  },
  {
   "cell_type": "code",
   "execution_count": 21,
   "id": "73d211ce",
   "metadata": {},
   "outputs": [
    {
     "data": {
      "text/plain": [
       "tensor([13,  6, 14, 12, 19, 16, 25, 21,  6, 10,  5, 19,  7,  6, 17,  6, 12, 13,\n",
       "        14,  6,  7, 13, 29,  8,  6, 21, 19,  5,  6, 11,  6,  8, 23,  8,  5,  6,\n",
       "        10,  5, 19,  7,  6, 28,  6, 27, 18, 19, 22,  4, 22, 25, 26,  6, 19, 29,\n",
       "        29,  6,  7, 13, 11, 12,  6, 19,  5,  8,  6, 19, 29,  6, 12, 13, 14,  6,\n",
       "        25, 13, 11, 11, 25,  8,  6, 24, 13, 18, 25, 14,  6, 28, 13,  6, 21, 19,\n",
       "         5,  6, 11,  6, 10,  5, 19,  7,  6, 28,  6, 13,  6, 11,  8, 25, 25,  6,\n",
       "        26, 19, 16,  6, 13, 29,  6, 12,  8,  6, 21, 19,  5,  6, 11,  6, 24, 13,\n",
       "        23,  8,  6,  4,  6, 21,  4,  9,  5,  6, 11, 12,  8,  5,  6, 13,  6, 21,\n",
       "        19,  5,  6, 11,  6, 24, 13, 23,  8,  6,  4,  6, 21,  4,  9,  5,  6, 28,\n",
       "         7, 12, 26,  6, 14, 12, 19, 16, 25, 21,  6, 13,  6, 10, 13, 25, 25,  6,\n",
       "         9, 26, 14,  8, 25, 29,  6, 17,  2])"
      ]
     },
     "execution_count": 21,
     "metadata": {},
     "output_type": "execute_result"
    }
   ],
   "source": [
    "target_variable[:, 0]"
   ]
  },
  {
   "cell_type": "code",
   "execution_count": 22,
   "id": "ef6df4dc",
   "metadata": {},
   "outputs": [
    {
     "data": {
      "text/plain": [
       "'ishouldknow?hiswifedontevenknow.probablyoffwithoneofhislittlegirls.idontknow.itellyouifhedontgiveadamnthenidontgiveadamn.whyshouldikillmyself?EOS'"
      ]
     },
     "execution_count": 22,
     "metadata": {},
     "output_type": "execute_result"
    }
   ],
   "source": [
    "#Input sentence\n",
    "''.join([voc.index2word[i.item()] for i in input_variable[:,0]])"
   ]
  },
  {
   "cell_type": "code",
   "execution_count": 23,
   "id": "bf941a65",
   "metadata": {},
   "outputs": [
    {
     "data": {
      "text/plain": [
       "'i should know ? his wife don t even know . probably off with one of his little girls .i don t know . i tell you if he don t give a damn then i don t give a damn .why should i kill myself ?EOS'"
      ]
     },
     "execution_count": 23,
     "metadata": {},
     "output_type": "execute_result"
    }
   ],
   "source": [
    "#Output sentence\n",
    "''.join([voc.index2word[i.item()] for i in target_variable[:,0]])"
   ]
  },
  {
   "cell_type": "code",
   "execution_count": 24,
   "id": "fc52940b",
   "metadata": {},
   "outputs": [],
   "source": [
    "class EncoderRNN(nn.Module):\n",
    "    def __init__(self, hidden_size, embedding, n_layers=1, dropout=0):\n",
    "        super(EncoderRNN, self).__init__()\n",
    "        self.n_layers = n_layers\n",
    "        self.hidden_size = hidden_size\n",
    "        self.embedding = embedding\n",
    "\n",
    "        # Initialize GRU; the input_size and hidden_size params are both set to 'hidden_size'\n",
    "        #   because our input size is a word embedding with number of features == hidden_size\n",
    "        self.gru = nn.GRU(hidden_size, hidden_size, n_layers,\n",
    "                          dropout=(0 if n_layers == 1 else dropout), bidirectional=True)\n",
    "\n",
    "    def forward(self, input_seq, input_lengths, hidden=None):\n",
    "        # Convert word indexes to embeddings\n",
    "        embedded = self.embedding(input_seq)\n",
    "        # Pack padded batch of sequences for RNN module\n",
    "        packed = nn.utils.rnn.pack_padded_sequence(embedded, input_lengths)\n",
    "        # Forward pass through GRU\n",
    "        outputs, hidden = self.gru(packed, hidden)\n",
    "        # Unpack padding\n",
    "        outputs, _ = nn.utils.rnn.pad_packed_sequence(outputs)\n",
    "        # Sum bidirectional GRU outputs\n",
    "        outputs = outputs[:, :, :self.hidden_size] + outputs[:, : ,self.hidden_size:]\n",
    "        # Return output and final hidden state\n",
    "        return outputs, hidden"
   ]
  },
  {
   "cell_type": "code",
   "execution_count": 25,
   "id": "6a536048",
   "metadata": {},
   "outputs": [],
   "source": [
    "# Luong attention layer\n",
    "class Attn(nn.Module):\n",
    "    def __init__(self, method, hidden_size):\n",
    "        super(Attn, self).__init__()\n",
    "        self.method = method\n",
    "        if self.method not in ['dot', 'general', 'concat']:\n",
    "            raise ValueError(self.method, \"is not an appropriate attention method.\")\n",
    "        self.hidden_size = hidden_size\n",
    "        if self.method == 'general':\n",
    "            self.attn = nn.Linear(self.hidden_size, hidden_size)\n",
    "        elif self.method == 'concat':\n",
    "            self.attn = nn.Linear(self.hidden_size * 2, hidden_size)\n",
    "            self.v = nn.Parameter(torch.FloatTensor(hidden_size))\n",
    "\n",
    "    def dot_score(self, hidden, encoder_output):\n",
    "        return torch.sum(hidden * encoder_output, dim=2)\n",
    "\n",
    "    def general_score(self, hidden, encoder_output):\n",
    "        energy = self.attn(encoder_output)\n",
    "        return torch.sum(hidden * energy, dim=2)\n",
    "\n",
    "    def concat_score(self, hidden, encoder_output):\n",
    "        energy = self.attn(torch.cat((hidden.expand(encoder_output.size(0), -1, -1), encoder_output), 2)).tanh()\n",
    "        return torch.sum(self.v * energy, dim=2)\n",
    "\n",
    "    def forward(self, hidden, encoder_outputs):\n",
    "        # Calculate the attention weights (energies) based on the given method\n",
    "        if self.method == 'general':\n",
    "            attn_energies = self.general_score(hidden, encoder_outputs)\n",
    "        elif self.method == 'concat':\n",
    "            attn_energies = self.concat_score(hidden, encoder_outputs)\n",
    "        elif self.method == 'dot':\n",
    "            attn_energies = self.dot_score(hidden, encoder_outputs)\n",
    "\n",
    "        # Transpose max_length and batch_size dimensions\n",
    "        attn_energies = attn_energies.t()\n",
    "\n",
    "        # Return the softmax normalized probability scores (with added dimension)\n",
    "        return F.softmax(attn_energies, dim=1).unsqueeze(1)"
   ]
  },
  {
   "cell_type": "code",
   "execution_count": 26,
   "id": "cb4f2af2",
   "metadata": {},
   "outputs": [],
   "source": [
    "class LuongAttnDecoderRNN(nn.Module):\n",
    "    def __init__(self, attn_model, embedding, hidden_size, output_size, n_layers=1, dropout=0.1):\n",
    "        super(LuongAttnDecoderRNN, self).__init__()\n",
    "\n",
    "        # Keep for reference\n",
    "        self.attn_model = attn_model\n",
    "        self.hidden_size = hidden_size\n",
    "        self.output_size = output_size\n",
    "        self.n_layers = n_layers\n",
    "        self.dropout = dropout\n",
    "\n",
    "        # Define layers\n",
    "        self.embedding = embedding\n",
    "        self.embedding_dropout = nn.Dropout(dropout)\n",
    "        self.gru = nn.GRU(hidden_size, hidden_size, n_layers, dropout=(0 if n_layers == 1 else dropout))\n",
    "        self.concat = nn.Linear(hidden_size * 2, hidden_size)\n",
    "        self.out = nn.Linear(hidden_size, output_size)\n",
    "\n",
    "        self.attn = Attn(attn_model, hidden_size)\n",
    "\n",
    "    def forward(self, input_step, last_hidden, encoder_outputs):\n",
    "        # Note: we run this one step (word) at a time\n",
    "        # Get embedding of current input word\n",
    "        embedded = self.embedding(input_step)\n",
    "        embedded = self.embedding_dropout(embedded)\n",
    "        # Forward through unidirectional GRU\n",
    "        rnn_output, hidden = self.gru(embedded, last_hidden)\n",
    "        # Calculate attention weights from the current GRU output\n",
    "        attn_weights = self.attn(rnn_output, encoder_outputs)\n",
    "        # Multiply attention weights to encoder outputs to get new \"weighted sum\" context vector\n",
    "        context = attn_weights.bmm(encoder_outputs.transpose(0, 1))\n",
    "        # Concatenate weighted context vector and GRU output using Luong eq. 5\n",
    "        rnn_output = rnn_output.squeeze(0)\n",
    "        context = context.squeeze(1)\n",
    "        concat_input = torch.cat((rnn_output, context), 1)\n",
    "        concat_output = torch.tanh(self.concat(concat_input))\n",
    "        # Predict next word using Luong eq. 6\n",
    "        output = self.out(concat_output)\n",
    "        output = F.softmax(output, dim=1)\n",
    "        # Return output and final hidden state\n",
    "        return output, hidden"
   ]
  },
  {
   "cell_type": "code",
   "execution_count": 27,
   "id": "a2aacc28",
   "metadata": {},
   "outputs": [],
   "source": [
    "def maskNLLLoss(inp, target, mask):\n",
    "    nTotal = mask.sum()\n",
    "    crossEntropy = -torch.log(torch.gather(inp, 1, target.view(-1, 1)).squeeze(1))\n",
    "    loss = crossEntropy.masked_select(mask).mean()\n",
    "    loss = loss.to(device)\n",
    "    return loss, nTotal.item()"
   ]
  },
  {
   "cell_type": "code",
   "execution_count": 28,
   "id": "821e9b84",
   "metadata": {},
   "outputs": [],
   "source": [
    "def train(input_variable, lengths, target_variable, mask, max_target_len, encoder, decoder, embedding,\n",
    "          encoder_optimizer, decoder_optimizer, batch_size, clip, max_length=MAX_LENGTH):\n",
    "\n",
    "    # Zero gradients\n",
    "    encoder_optimizer.zero_grad()\n",
    "    decoder_optimizer.zero_grad()\n",
    "\n",
    "    # Set device options\n",
    "    input_variable = input_variable.to(device)\n",
    "    target_variable = target_variable.to(device)\n",
    "    mask = mask.to(device)\n",
    "    # Lengths for rnn packing should always be on the cpu\n",
    "    lengths = lengths.to(\"cpu\")\n",
    "\n",
    "    # Initialize variables\n",
    "    loss = 0\n",
    "    print_losses = []\n",
    "    n_totals = 0\n",
    "\n",
    "    # Forward pass through encoder\n",
    "    encoder_outputs, encoder_hidden = encoder(input_variable, lengths)\n",
    "\n",
    "    # Create initial decoder input (start with SOS tokens for each sentence)\n",
    "    decoder_input = torch.LongTensor([[SOS_token for _ in range(batch_size)]])\n",
    "    decoder_input = decoder_input.to(device)\n",
    "\n",
    "    # Set initial decoder hidden state to the encoder's final hidden state\n",
    "    decoder_hidden = encoder_hidden[:decoder.n_layers]\n",
    "\n",
    "    # Determine if we are using teacher forcing this iteration\n",
    "    use_teacher_forcing = True if random.random() < teacher_forcing_ratio else False\n",
    "\n",
    "    # Forward batch of sequences through decoder one time step at a time\n",
    "    if use_teacher_forcing:\n",
    "        for t in range(max_target_len):\n",
    "            decoder_output, decoder_hidden = decoder(\n",
    "                decoder_input, decoder_hidden, encoder_outputs\n",
    "            )\n",
    "            # Teacher forcing: next input is current target\n",
    "            decoder_input = target_variable[t].view(1, -1)\n",
    "            # Calculate and accumulate loss\n",
    "            mask_loss, nTotal = maskNLLLoss(decoder_output, target_variable[t], mask[t])\n",
    "            loss += mask_loss\n",
    "            print_losses.append(mask_loss.item() * nTotal)\n",
    "            n_totals += nTotal\n",
    "    else:\n",
    "        for t in range(max_target_len):\n",
    "            decoder_output, decoder_hidden = decoder(\n",
    "                decoder_input, decoder_hidden, encoder_outputs\n",
    "            )\n",
    "            # No teacher forcing: next input is decoder's own current output\n",
    "            _, topi = decoder_output.topk(1)\n",
    "            decoder_input = torch.LongTensor([[topi[i][0] for i in range(batch_size)]])\n",
    "            decoder_input = decoder_input.to(device)\n",
    "            # Calculate and accumulate loss\n",
    "            mask_loss, nTotal = maskNLLLoss(decoder_output, target_variable[t], mask[t])\n",
    "            loss += mask_loss\n",
    "            print_losses.append(mask_loss.item() * nTotal)\n",
    "            n_totals += nTotal\n",
    "\n",
    "    # Perform backpropatation\n",
    "    loss.backward()\n",
    "\n",
    "    # Clip gradients: gradients are modified in place\n",
    "    _ = nn.utils.clip_grad_norm_(encoder.parameters(), clip)\n",
    "    _ = nn.utils.clip_grad_norm_(decoder.parameters(), clip)\n",
    "\n",
    "    # Adjust model weights\n",
    "    encoder_optimizer.step()\n",
    "    decoder_optimizer.step()\n",
    "\n",
    "    return sum(print_losses) / n_totals"
   ]
  },
  {
   "cell_type": "code",
   "execution_count": 29,
   "id": "334560de",
   "metadata": {},
   "outputs": [],
   "source": [
    "def trainIters(model_name, voc, pairs, encoder, decoder, encoder_optimizer, decoder_optimizer, embedding, encoder_n_layers, decoder_n_layers, save_dir, n_iteration, batch_size, print_every, save_every, clip, corpus_name, loadFilename):\n",
    "\n",
    "    # Load batches for each iteration\n",
    "    training_batches = [batch2TrainData(voc, [random.choice(pairs) for _ in range(batch_size)])\n",
    "                      for _ in range(n_iteration)]\n",
    "\n",
    "    # Initializations\n",
    "    print(f\"total training batches that you will need are {len(training_batches)}\")\n",
    "    print('Initializing ...')\n",
    "    start_iteration = 1\n",
    "    print_loss = 0\n",
    "    if loadFilename:\n",
    "        start_iteration = checkpoint['iteration'] + 1\n",
    "\n",
    "    # Training loop\n",
    "    print(\"Training...\")\n",
    "    for iteration in range(start_iteration, n_iteration + 1):\n",
    "        training_batch = training_batches[iteration - 1]\n",
    "        # Extract fields from batch\n",
    "        input_variable, lengths, target_variable, mask, max_target_len = training_batch\n",
    "\n",
    "        # Run a training iteration with batch\n",
    "        loss = train(input_variable, lengths, target_variable, mask, max_target_len, encoder,\n",
    "                     decoder, embedding, encoder_optimizer, decoder_optimizer, batch_size, clip)\n",
    "        print_loss += loss\n",
    "\n",
    "        # Print progress\n",
    "        if iteration % print_every == 0:\n",
    "            print_loss_avg = print_loss / print_every\n",
    "            print(\"Iteration: {}; Percent complete: {:.1f}%; Average loss: {:.4f}\".format(iteration, iteration / n_iteration * 100, print_loss_avg))\n",
    "            print_loss = 0\n",
    "\n",
    "        # Save checkpoint\n",
    "        if (iteration % save_every == 0):\n",
    "            directory = os.path.join(save_dir, model_name, corpus_name, '{}-{}_{}'.format(encoder_n_layers, decoder_n_layers, hidden_size))\n",
    "            if not os.path.exists(directory):\n",
    "                os.makedirs(directory)\n",
    "            torch.save({\n",
    "                'iteration': iteration,\n",
    "                'en': encoder.state_dict(),\n",
    "                'de': decoder.state_dict(),\n",
    "                'en_opt': encoder_optimizer.state_dict(),\n",
    "                'de_opt': decoder_optimizer.state_dict(),\n",
    "                'loss': loss,\n",
    "                'voc_dict': voc.__dict__,\n",
    "                'embedding': embedding.state_dict()\n",
    "            }, os.path.join(directory, '{}_{}.tar'.format(iteration, 'checkpoint')))"
   ]
  },
  {
   "cell_type": "code",
   "execution_count": 30,
   "id": "4108deff",
   "metadata": {},
   "outputs": [],
   "source": [
    "class GreedySearchDecoder(nn.Module):\n",
    "    def __init__(self, encoder, decoder):\n",
    "        super(GreedySearchDecoder, self).__init__()\n",
    "        self.encoder = encoder\n",
    "        self.decoder = decoder\n",
    "\n",
    "    def forward(self, input_seq, input_length, max_length):\n",
    "        # Forward input through encoder model\n",
    "        encoder_outputs, encoder_hidden = self.encoder(input_seq, input_length)\n",
    "        # Prepare encoder's final hidden layer to be first hidden input to the decoder\n",
    "        decoder_hidden = encoder_hidden[:decoder.n_layers]\n",
    "        # Initialize decoder input with SOS_token\n",
    "        decoder_input = torch.ones(1, 1, device=device, dtype=torch.long) * SOS_token\n",
    "        # Initialize tensors to append decoded words to\n",
    "        all_tokens = torch.zeros([0], device=device, dtype=torch.long)\n",
    "        all_scores = torch.zeros([0], device=device)\n",
    "        # Iteratively decode one word token at a time\n",
    "        for _ in range(max_length):\n",
    "            # Forward pass through decoder\n",
    "            decoder_output, decoder_hidden = self.decoder(decoder_input, decoder_hidden, encoder_outputs)\n",
    "            # Obtain most likely word token and its softmax score\n",
    "            decoder_scores, decoder_input = torch.max(decoder_output, dim=1)\n",
    "            # Record token and score\n",
    "            all_tokens = torch.cat((all_tokens, decoder_input), dim=0)\n",
    "            all_scores = torch.cat((all_scores, decoder_scores), dim=0)\n",
    "            # Prepare current token to be next decoder input (add a dimension)\n",
    "            decoder_input = torch.unsqueeze(decoder_input, 0)\n",
    "        # Return collections of word tokens and scores\n",
    "        return all_tokens, all_scores"
   ]
  },
  {
   "cell_type": "code",
   "execution_count": 31,
   "id": "f95018e5",
   "metadata": {},
   "outputs": [],
   "source": [
    "def evaluate(encoder, decoder, searcher, voc, sentence, max_length=MAX_LENGTH):\n",
    "    ### Format input sentence as a batch\n",
    "    # words -> indexes\n",
    "    indexes_batch = [indexesFromSentence(voc, sentence)]\n",
    "    # Create lengths tensor\n",
    "    lengths = torch.tensor([len(indexes) for indexes in indexes_batch])\n",
    "    # Transpose dimensions of batch to match models' expectations\n",
    "    input_batch = torch.LongTensor(indexes_batch).transpose(0, 1)\n",
    "    # Use appropriate device\n",
    "    input_batch = input_batch.to(device)\n",
    "    #lengths = lengths.to(device)\n",
    "    # Decode sentence with searcher\n",
    "    tokens, scores = searcher(input_batch, lengths, max_length)\n",
    "    # indexes -> words\n",
    "    decoded_words = [voc.index2word[token.item()] for token in tokens]\n",
    "    return decoded_words\n",
    "\n",
    "\n",
    "def evaluateInput(encoder, decoder, searcher, voc):\n",
    "    input_sentence = ''\n",
    "    while(1):\n",
    "        try:\n",
    "            # Get input sentence\n",
    "            input_sentence = input('> ')\n",
    "            # Check if it is quit case\n",
    "            if input_sentence == 'q' or input_sentence == 'quit': break\n",
    "            # Normalize sentence\n",
    "            input_sentence = normalizeString(input_sentence)\n",
    "            # Evaluate sentence\n",
    "            output_words = evaluate(encoder, decoder, searcher, voc, input_sentence)\n",
    "            # Format and print response sentence\n",
    "            output_words[:] = [x for x in output_words if not (x == 'EOS' or x == 'PAD')]\n",
    "            print('Model Output:', ''.join(output_words))\n",
    "\n",
    "        except KeyError:\n",
    "            print(\"Error: Encountered unknown word.\")"
   ]
  },
  {
   "cell_type": "code",
   "execution_count": null,
   "id": "1d20acca",
   "metadata": {},
   "outputs": [],
   "source": [
    "# Configure models\n",
    "model_name = 'cb_model'\n",
    "attn_model = 'dot'\n",
    "#attn_model = 'general'\n",
    "#attn_model = 'concat'\n",
    "hidden_size = 512\n",
    "encoder_n_layers = 2\n",
    "decoder_n_layers = 2\n",
    "dropout = 0.1\n",
    "batch_size = 64\n",
    "\n",
    "# Set checkpoint to load from; set to None if starting from scratch\n",
    "loadFilename = 200\n",
    "checkpoint_iter = 100\n",
    "loadFilename = os.path.join(save_dir, model_name, corpus_name,\n",
    "                           '{}-{}_{}'.format(encoder_n_layers, decoder_n_layers, hidden_size),\n",
    "                           '{}_checkpoint.tar'.format(checkpoint_iter))\n",
    "\n",
    "\n",
    "# Load model if a loadFilename is provided\n",
    "if loadFilename:\n",
    "    # If loading on same machine the model was trained on\n",
    "    checkpoint = torch.load(loadFilename)\n",
    "    # If loading a model trained on GPU to CPU\n",
    "    #checkpoint = torch.load(loadFilename, map_location=torch.device('cpu'))\n",
    "    encoder_sd = checkpoint['en']\n",
    "    decoder_sd = checkpoint['de']\n",
    "    encoder_optimizer_sd = checkpoint['en_opt']\n",
    "    decoder_optimizer_sd = checkpoint['de_opt']\n",
    "    embedding_sd = checkpoint['embedding']\n",
    "    voc.__dict__ = checkpoint['voc_dict']\n",
    "\n",
    "\n",
    "print('Building encoder and decoder ...')\n",
    "# Initialize word embeddings\n",
    "embedding = nn.Embedding(voc.num_words, hidden_size)\n",
    "if loadFilename:\n",
    "    embedding.load_state_dict(embedding_sd)\n",
    "# Initialize encoder & decoder models\n",
    "encoder = EncoderRNN(hidden_size, embedding, encoder_n_layers, dropout)\n",
    "decoder = LuongAttnDecoderRNN(attn_model, embedding, hidden_size, voc.num_words, decoder_n_layers, dropout)\n",
    "if loadFilename:\n",
    "    encoder.load_state_dict(encoder_sd)\n",
    "    decoder.load_state_dict(decoder_sd)\n",
    "# Use appropriate device\n",
    "encoder = encoder.to(device)\n",
    "decoder = decoder.to(device)\n",
    "print('Models built and ready to go!')"
   ]
  },
  {
   "cell_type": "code",
   "execution_count": 35,
   "id": "a977e038",
   "metadata": {
    "collapsed": true
   },
   "outputs": [
    {
     "name": "stdout",
     "output_type": "stream",
     "text": [
      "Building optimizers ...\n",
      "Starting Training!\n",
      "total training batches that you will need are 200\n",
      "Initializing ...\n",
      "Training...\n",
      "Iteration: 10; Percent complete: 5.0%; Average loss: 0.0720\n",
      "Iteration: 20; Percent complete: 10.0%; Average loss: 0.0659\n",
      "Iteration: 30; Percent complete: 15.0%; Average loss: 0.0668\n",
      "Iteration: 40; Percent complete: 20.0%; Average loss: 0.0719\n",
      "Iteration: 50; Percent complete: 25.0%; Average loss: 0.0666\n",
      "Iteration: 60; Percent complete: 30.0%; Average loss: 0.0725\n",
      "Iteration: 70; Percent complete: 35.0%; Average loss: 0.0668\n",
      "Iteration: 80; Percent complete: 40.0%; Average loss: 0.0634\n",
      "Iteration: 90; Percent complete: 45.0%; Average loss: 0.0601\n",
      "Iteration: 100; Percent complete: 50.0%; Average loss: 0.0668\n",
      "Iteration: 110; Percent complete: 55.0%; Average loss: 0.0645\n",
      "Iteration: 120; Percent complete: 60.0%; Average loss: 0.0727\n",
      "Iteration: 130; Percent complete: 65.0%; Average loss: 0.0685\n",
      "Iteration: 140; Percent complete: 70.0%; Average loss: 0.0640\n",
      "Iteration: 150; Percent complete: 75.0%; Average loss: 0.0610\n",
      "Iteration: 160; Percent complete: 80.0%; Average loss: 0.0643\n",
      "Iteration: 170; Percent complete: 85.0%; Average loss: 0.0637\n",
      "Iteration: 180; Percent complete: 90.0%; Average loss: 0.0638\n",
      "Iteration: 190; Percent complete: 95.0%; Average loss: 0.0607\n",
      "Iteration: 200; Percent complete: 100.0%; Average loss: 0.0687\n"
     ]
    }
   ],
   "source": [
    "# Configure training/optimization\n",
    "clip = 50.0\n",
    "teacher_forcing_ratio = 1.0\n",
    "learning_rate = 0.0001\n",
    "decoder_learning_ratio = 5.0\n",
    "n_iteration = 200\n",
    "print_every = 10\n",
    "save_every = 50\n",
    "\n",
    "# Ensure dropout layers are in train mode\n",
    "encoder.train()\n",
    "decoder.train()\n",
    "\n",
    "# Initialize optimizers\n",
    "print('Building optimizers ...')\n",
    "encoder_optimizer = optim.Adam(encoder.parameters(), lr=learning_rate)\n",
    "decoder_optimizer = optim.Adam(decoder.parameters(), lr=learning_rate * decoder_learning_ratio)\n",
    "if loadFilename:\n",
    "    encoder_optimizer.load_state_dict(encoder_optimizer_sd)\n",
    "    decoder_optimizer.load_state_dict(decoder_optimizer_sd)\n",
    "\n",
    "# If you have cuda, configure cuda to call\n",
    "for state in encoder_optimizer.state.values():\n",
    "    for k, v in state.items():\n",
    "        if isinstance(v, torch.Tensor):\n",
    "            state[k] = v.cuda()\n",
    "\n",
    "for state in decoder_optimizer.state.values():\n",
    "    for k, v in state.items():\n",
    "        if isinstance(v, torch.Tensor):\n",
    "            state[k] = v.cuda()\n",
    "\n",
    "# Run training iterations\n",
    "print(\"Starting Training!\")\n",
    "trainIters(model_name, voc, train_pairs, encoder, decoder, encoder_optimizer, decoder_optimizer,\n",
    "           embedding, encoder_n_layers, decoder_n_layers, save_dir, n_iteration, batch_size,\n",
    "           print_every, save_every, clip, corpus_name, loadFilename)"
   ]
  },
  {
   "cell_type": "markdown",
   "id": "990ad3e3",
   "metadata": {},
   "source": [
    "###  Test on sample sentence"
   ]
  },
  {
   "cell_type": "code",
   "execution_count": null,
   "id": "ee91e1cb",
   "metadata": {},
   "outputs": [],
   "source": [
    "b = [i[0] for i in test_pairs[:30] if len(i[0]) > 5]"
   ]
  },
  {
   "cell_type": "code",
   "execution_count": 48,
   "id": "ef206c13",
   "metadata": {},
   "outputs": [],
   "source": [
    "encoder.eval()\n",
    "decoder.eval()\n",
    "\n",
    "searcher = GreedySearchDecoder(encoder, decoder)\n",
    "try:\n",
    "    outputs = []\n",
    "    for input_sentence in b:\n",
    "        input_sentence = normalizeString(input_sentence)\n",
    "        output_words = evaluate(encoder, decoder, searcher, voc, input_sentence)\n",
    "        output_words[:] = [x for x in output_words if not (x == 'EOS' or x == 'PAD')]\n",
    "        outputs.append([input_sentence, ''.join(output_words)])\n",
    "        \n",
    "except KeyError:\n",
    "    print(\"Error: Encountered unknown word.\")"
   ]
  },
  {
   "cell_type": "code",
   "execution_count": 46,
   "id": "b0973a41",
   "metadata": {
    "collapsed": true
   },
   "outputs": [
    {
     "data": {
      "text/plain": [
       "[['whatsgoinon ?', 'what s goin on ? ?'],\n",
       " ['rosesaysshesgointohaveababyandshesurelooksitbutidontthinkso .',\n",
       "  'rose says she s goin to have a baby and she sure looks it but i don t think so . . think so . . think so . . think so . . think so . . think so . .'],\n",
       " ['rosesaysshesgointohaveababyandshesurelooksitbutidontthinkso .',\n",
       "  'rose says she s goin to have a baby and she sure looks it but i don t think so . . think so . . think so . . think so . . think so . . think so . .'],\n",
       " ['ababy . . .andsheisntevenmarried .',\n",
       "  'a baby . . . . and she isn t even married .d she isn t even married .d she isn t even married .d she isn t even married .d she isn t even married .d she isn t even m'],\n",
       " ['ababy . . .andsheisntevenmarried .',\n",
       "  'a baby . . . . and she isn t even married .d she isn t even married .d she isn t even married .d she isn t even married .d she isn t even married .d she isn t even m'],\n",
       " ['thatstheleastofhertroubles .rosehadararetropicdiseaseandthelittletubesinherthatbabiesswimdownareallstoppedupshetoldmeallaboutit .',\n",
       "  'that s the least of her troubles . rose had arare tropic dise as eand the little tubes in her that babiess wimdown a reall stopped up she told me all about it . . . rose had and the little'],\n",
       " ['thatstheleastofhertroubles .rosehadararetropicdiseaseandthelittletubesinherthatbabiesswimdownareallstoppedupshetoldmeallaboutit .',\n",
       "  'that s the least of her troubles . rose had arare tropic dise as eand the little tubes in her that babiess wimdown a reall stopped up she told me all about it . . . rose had and the little'],\n",
       " ['ifitisntababy . . .whatisit ?',\n",
       "  'if it isn t a baby . . . . what is it ?t a baby . . . what is it ?t a baby . . . what is it ?t a baby . . . what is it ?t a baby . . . what is it ?t a baby . . . what is it ?t a baby'],\n",
       " ['whyisittakingsolong ?', 'why is it taking so long ?'],\n",
       " ['herecomesdaddy .',\n",
       "  'here comes daddy . ere comes daddy . ere comes daddy . ere comes daddy . ere comes daddy . ere comes'],\n",
       " ['wellyourascalwheredyoucomefrom ?',\n",
       "  'well you rascal where d you come from ?'],\n",
       " ['hellodaddy .howareyou ?',\n",
       "  'hellod addy . how are you ? lodaddy . how are you ? lodaddy . how are you ? lodaddy . how are you ? lodaddy . how are you ? lodadd'],\n",
       " ['hellodaddy .howareyou ?',\n",
       "  'hellod addy . how are you ? lodaddy . how are you ? lodaddy . how are you ? lodaddy . how are you ? lodaddy . how are you ? lodadd'],\n",
       " ['aboutasgoodascanbeexpectedwithonefootinthegrave .goodtoseeyouson .didyoubringanyofthatyankeewhiskywithyou ?',\n",
       "  'about as good as can be expected with one foot in the grave . good to see you son . did you bring any of that yankee whisky with you ? did you bring any of that yankee whisky with you ? did yo'],\n",
       " ['aboutasgoodascanbeexpectedwithonefootinthegrave .goodtoseeyouson .didyoubringanyofthatyankeewhiskywithyou ?',\n",
       "  'about as good as can be expected with one foot in the grave . good to see you son . did you bring any of that yankee whisky with you ? did you bring any of that yankee whisky with you ? did yo'],\n",
       " ['itisntyankeewhiskydaddyitsscotch .',\n",
       "  'it isn t ya nkee whisky daddy it s scotch . kee whisky daddy it s scotch . kee whisky daddy it s scotch . kee whisky daddy it s scotch . kee whisky daddy it s scotch . kee whi'],\n",
       " ['itisntyankeewhiskydaddyitsscotch .',\n",
       "  'it isn t ya nkee whisky daddy it s scotch . kee whisky daddy it s scotch . kee whisky daddy it s scotch . kee whisky daddy it s scotch . kee whisky daddy it s scotch . kee whi'],\n",
       " ['itsyankeewhiskytome .',\n",
       "  'it s yankee whisky to me . kee whisky to me . kee whisky to me . kee whisky to me . kee whisky to me . kee whisky to me . kee whisky to me . kee whisky to me '],\n",
       " ['icanuseadrinkaftertheplanerideihad .',\n",
       "  'i can use a drink after the planeride i had . use a drink after the planeride i had . use a drink after the planeride i had . use a drink after the planeride i had . us'],\n",
       " ['yourwifeandchildrenarebackinnewhampshireinthesnow ?',\n",
       "  'your wife and children are back in new hamps hire in the snow ? ?e whamps hire in the s now ? ?e whamps hire in the s now ? ?e whamps hire in the s now ? ?e whamps hire'],\n",
       " ['yourwifeandchildrenarebackinnewhampshireinthesnow ?',\n",
       "  'your wife and children are back in new hamps hire in the snow ? ?e whamps hire in the s now ? ?e whamps hire in the s now ? ?e whamps hire in the s now ? ?e whamps hire'],\n",
       " ['yeahtheyreinthesnow .',\n",
       "  'yeah they re in the snow . . . ow . . . ow . . . ow . . . ow . .'],\n",
       " ['aretheypolarbearstoo ?',\n",
       "  'are they polar be arstoo ?re they polar be arstoo ?re they polar be arstoo ?re they polar be arstoo ?re they polar be arstoo ?re they polar be arstoo ?re they polar'],\n",
       " ['goodgodthewayyoulivehere .thisplacehasntbeendustedsincemotherdied .lookatthatgoddamnedrefrigerator .',\n",
       "  'good god the way you live here . this place hasn t been dusted since mother died . look at that god damned refrigerator . this place hasn t been dusted since mother died . look at that god '],\n",
       " ['goodgodthewayyoulivehere .thisplacehasntbeendustedsincemotherdied .lookatthatgoddamnedrefrigerator .',\n",
       "  'good god the way you live here . this place hasn t been dusted since mother died . look at that god damned refrigerator . this place hasn t been dusted since mother died . look at that god '],\n",
       " ['gotanothertwentyyearsinitboy .bythewaysondoyourecallrosethatprettyblondegirlwhocametoourhousewaybackinorandcausedsuchadamnablecommotion .',\n",
       "  'got a nother twenty years in it boy . by the ways on do you re call rose that pretty blondegirl who came to our house way back in or and caused such a damn a blecommotion . .'],\n",
       " ['gotanothertwentyyearsinitboy .bythewaysondoyourecallrosethatprettyblondegirlwhocametoourhousewaybackinorandcausedsuchadamnablecommotion .',\n",
       "  'got a nother twenty years in it boy . by the ways on do you re call rose that pretty blondegirl who came to our house way back in or and caused such a damn a blecommotion . .'],\n",
       " ['ofcourseirecallrose .infactivebeenthinkingofnooneelseforthelasthourandahalf .',\n",
       "  'of course i recall rose . in factive been thinking of no one else for the last hour and alf . . factive been thinking of no one else for the last hour and alf . . factive been thinking of no'],\n",
       " ['ofcourseirecallrose .infactivebeenthinkingofnooneelseforthelasthourandahalf .',\n",
       "  'of course i recall rose . in factive been thinking of no one else for the last hour and alf . . factive been thinking of no one else for the last hour and alf . . factive been thinking of no'],\n",
       " ['howcouldthatbeson ?', 'how could that beson ?']]"
      ]
     },
     "execution_count": 46,
     "metadata": {},
     "output_type": "execute_result"
    }
   ],
   "source": [
    "outputs"
   ]
  },
  {
   "cell_type": "code",
   "execution_count": null,
   "id": "288e9bf5",
   "metadata": {},
   "outputs": [],
   "source": [
    "# test_input = [\"thismodelputspacesbetweencharacters\",\n",
    "#               \"ithinkicansolvethisriddle\",\n",
    "#               'wellyouareamazing',\n",
    "#               'adogisverypissedatme!',\n",
    "#               'ithinkilovethismovie.charactersfromthismotionpictureisawesome',\n",
    "#               'thisisabeautifulcap',\n",
    "#               'icansolvethispuzzleveryeasily',\n",
    "#               'usuallyachairhasfourlegs',\n",
    "#               'tablealsohasfourlegs',\n",
    "#               'thisismysignature.',\n",
    "#               'knowlegeisnotsameaswisdom.',\n",
    "#               \"iamsorryidon'twanttoosoundrudesbutareyouplanningtodothisactivity?\"\n",
    "#               'themorningsunlightgivesyoumorevitamindthantablets'\n",
    "#              ] "
   ]
  },
  {
   "cell_type": "code",
   "execution_count": null,
   "id": "892a0399",
   "metadata": {},
   "outputs": [],
   "source": []
  }
 ],
 "metadata": {
  "kernelspec": {
   "display_name": "Python 3",
   "language": "python",
   "name": "python3"
  },
  "language_info": {
   "codemirror_mode": {
    "name": "ipython",
    "version": 3
   },
   "file_extension": ".py",
   "mimetype": "text/x-python",
   "name": "python",
   "nbconvert_exporter": "python",
   "pygments_lexer": "ipython3",
   "version": "3.7.10"
  }
 },
 "nbformat": 4,
 "nbformat_minor": 5
}
